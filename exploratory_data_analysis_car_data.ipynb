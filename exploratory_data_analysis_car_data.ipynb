{
 "cells": [
  {
   "cell_type": "markdown",
   "metadata": {},
   "source": [
    "# Exploratory data analysis (EDA) of car data"
   ]
  },
  {
   "cell_type": "markdown",
   "metadata": {},
   "source": [
    "## Libraries and settings"
   ]
  },
  {
   "cell_type": "code",
   "execution_count": 4,
   "metadata": {},
   "outputs": [
    {
     "name": "stdout",
     "output_type": "stream",
     "text": [
      "u:\\Lektionen\\GitHub_Repositories\\python_exploratory_data_analysis\n"
     ]
    }
   ],
   "source": [
    "# Libraries\n",
    "import os\n",
    "import random\n",
    "import pandas as pd\n",
    "import numpy as np\n",
    "import seaborn as sns\n",
    "import matplotlib.pyplot as plt\n",
    "import statsmodels.api as sm\n",
    "from datetime import datetime, timedelta\n",
    "\n",
    "# seaborn graphics settings\n",
    "sns.set_theme(color_codes=True)\n",
    "\n",
    "# Ignore warnings\n",
    "import warnings\n",
    "warnings.filterwarnings(\"ignore\")\n",
    "\n",
    "# Show current working directory\n",
    "print(os.getcwd())"
   ]
  },
  {
   "cell_type": "markdown",
   "metadata": {},
   "source": [
    "## Importing the car data"
   ]
  },
  {
   "cell_type": "markdown",
   "metadata": {},
   "source": [
    "### Importing the car data"
   ]
  },
  {
   "cell_type": "code",
   "execution_count": 5,
   "metadata": {},
   "outputs": [
    {
     "data": {
      "text/html": [
       "<div>\n",
       "<style scoped>\n",
       "    .dataframe tbody tr th:only-of-type {\n",
       "        vertical-align: middle;\n",
       "    }\n",
       "\n",
       "    .dataframe tbody tr th {\n",
       "        vertical-align: top;\n",
       "    }\n",
       "\n",
       "    .dataframe thead th {\n",
       "        text-align: right;\n",
       "    }\n",
       "</style>\n",
       "<table border=\"1\" class=\"dataframe\">\n",
       "  <thead>\n",
       "    <tr style=\"text-align: right;\">\n",
       "      <th></th>\n",
       "      <th>offer_id</th>\n",
       "      <th>type</th>\n",
       "      <th>price</th>\n",
       "      <th>hp</th>\n",
       "      <th>mileage</th>\n",
       "      <th>fuel_type</th>\n",
       "      <th>transmission</th>\n",
       "      <th>dealer_plz</th>\n",
       "      <th>dealer_city</th>\n",
       "      <th>dealer_street_house_nr</th>\n",
       "      <th>init_regist_my</th>\n",
       "      <th>init_regist_month</th>\n",
       "      <th>init_regist_year</th>\n",
       "      <th>init_regist_dt</th>\n",
       "    </tr>\n",
       "  </thead>\n",
       "  <tbody>\n",
       "    <tr>\n",
       "      <th>0</th>\n",
       "      <td>7324420</td>\n",
       "      <td>AUDI A5 Sportback 3.0 TDI quattro S-tronic (Li...</td>\n",
       "      <td>22500</td>\n",
       "      <td>245</td>\n",
       "      <td>75000</td>\n",
       "      <td>Diesel</td>\n",
       "      <td>Automatisiertes Schaltgetriebe</td>\n",
       "      <td>8488</td>\n",
       "      <td>Turbenthal</td>\n",
       "      <td>Mettlenstrasse 3</td>\n",
       "      <td>10.2014</td>\n",
       "      <td>10.0</td>\n",
       "      <td>2014.0</td>\n",
       "      <td>2014-10</td>\n",
       "    </tr>\n",
       "    <tr>\n",
       "      <th>1</th>\n",
       "      <td>7512768</td>\n",
       "      <td>MERCEDES-BENZ SLK 200 7G-Tronic (Cabriolet)</td>\n",
       "      <td>23749</td>\n",
       "      <td>184</td>\n",
       "      <td>46655</td>\n",
       "      <td>Benzin</td>\n",
       "      <td>Automat sequentiell</td>\n",
       "      <td>3186</td>\n",
       "      <td>Düdingen</td>\n",
       "      <td>Brugerastrasse 60</td>\n",
       "      <td>6.2013</td>\n",
       "      <td>6.0</td>\n",
       "      <td>2013.0</td>\n",
       "      <td>2013-06</td>\n",
       "    </tr>\n",
       "    <tr>\n",
       "      <th>2</th>\n",
       "      <td>7512034</td>\n",
       "      <td>MERCEDES-BENZ C 350 Avantgarde 4Matic 7G-Troni...</td>\n",
       "      <td>18500</td>\n",
       "      <td>306</td>\n",
       "      <td>138955</td>\n",
       "      <td>Benzin</td>\n",
       "      <td>Automat sequentiell</td>\n",
       "      <td>1262</td>\n",
       "      <td>Eysins</td>\n",
       "      <td>1262 Eysins</td>\n",
       "      <td>6.2011</td>\n",
       "      <td>6.0</td>\n",
       "      <td>2011.0</td>\n",
       "      <td>2011-06</td>\n",
       "    </tr>\n",
       "    <tr>\n",
       "      <th>3</th>\n",
       "      <td>7512728</td>\n",
       "      <td>MERCEDES-BENZ A 45 AMG 4Matic Speedshift 7G-DC...</td>\n",
       "      <td>36000</td>\n",
       "      <td>360</td>\n",
       "      <td>43000</td>\n",
       "      <td>Benzin</td>\n",
       "      <td>Automatisiertes Schaltgetriebe</td>\n",
       "      <td>4314</td>\n",
       "      <td>Zeiningen</td>\n",
       "      <td>Am Stutz 21</td>\n",
       "      <td>8.2015</td>\n",
       "      <td>8.0</td>\n",
       "      <td>2015.0</td>\n",
       "      <td>2015-08</td>\n",
       "    </tr>\n",
       "    <tr>\n",
       "      <th>4</th>\n",
       "      <td>7490242</td>\n",
       "      <td>AUDI A5 Sportback 2.0 TFSI Sport quattro S-tro...</td>\n",
       "      <td>48500</td>\n",
       "      <td>252</td>\n",
       "      <td>43300</td>\n",
       "      <td>Benzin</td>\n",
       "      <td>Automatisiertes Schaltgetriebe</td>\n",
       "      <td>3250</td>\n",
       "      <td>Lyss</td>\n",
       "      <td>3250 Lyss</td>\n",
       "      <td>9.2018</td>\n",
       "      <td>9.0</td>\n",
       "      <td>2018.0</td>\n",
       "      <td>2018-09</td>\n",
       "    </tr>\n",
       "  </tbody>\n",
       "</table>\n",
       "</div>"
      ],
      "text/plain": [
       "   offer_id                                               type  price   hp  \\\n",
       "0   7324420  AUDI A5 Sportback 3.0 TDI quattro S-tronic (Li...  22500  245   \n",
       "1   7512768        MERCEDES-BENZ SLK 200 7G-Tronic (Cabriolet)  23749  184   \n",
       "2   7512034  MERCEDES-BENZ C 350 Avantgarde 4Matic 7G-Troni...  18500  306   \n",
       "3   7512728  MERCEDES-BENZ A 45 AMG 4Matic Speedshift 7G-DC...  36000  360   \n",
       "4   7490242  AUDI A5 Sportback 2.0 TFSI Sport quattro S-tro...  48500  252   \n",
       "\n",
       "   mileage fuel_type                    transmission  dealer_plz dealer_city  \\\n",
       "0    75000    Diesel  Automatisiertes Schaltgetriebe        8488  Turbenthal   \n",
       "1    46655    Benzin             Automat sequentiell        3186    Düdingen   \n",
       "2   138955    Benzin             Automat sequentiell        1262      Eysins   \n",
       "3    43000    Benzin  Automatisiertes Schaltgetriebe        4314   Zeiningen   \n",
       "4    43300    Benzin  Automatisiertes Schaltgetriebe        3250        Lyss   \n",
       "\n",
       "  dealer_street_house_nr  init_regist_my  init_regist_month  init_regist_year  \\\n",
       "0       Mettlenstrasse 3         10.2014               10.0            2014.0   \n",
       "1      Brugerastrasse 60          6.2013                6.0            2013.0   \n",
       "2            1262 Eysins          6.2011                6.0            2011.0   \n",
       "3            Am Stutz 21          8.2015                8.0            2015.0   \n",
       "4              3250 Lyss          9.2018                9.0            2018.0   \n",
       "\n",
       "  init_regist_dt  \n",
       "0        2014-10  \n",
       "1        2013-06  \n",
       "2        2011-06  \n",
       "3        2015-08  \n",
       "4        2018-09  "
      ]
     },
     "execution_count": 5,
     "metadata": {},
     "output_type": "execute_result"
    }
   ],
   "source": [
    "# Columns to read\n",
    "columns = [\"Offer_Id\",\n",
    "            \"Type\",\n",
    "            \"Price\",\n",
    "            \"HP\",\n",
    "            \"Mileage\",\n",
    "            \"Fuel_Type\",\n",
    "            \"Transmission\",\n",
    "            \"Dealer_PLZ\",\n",
    "            \"Dealer_City\",\n",
    "            \"Dealer_Street_House_Nr\",\n",
    "            \"Init_Regist_MY\",\n",
    "            \"Init_Regist_Month\",\n",
    "            \"Init_Regist_Year\",\n",
    "            \"Init_Regist_Dt\"]\n",
    "\n",
    "# Read and select variables\n",
    "df_orig = pd.read_csv(\"autoscout24_data_enriched_cleaned.csv\", sep=\",\")[columns]\n",
    "\n",
    "# Change column names to lower case\n",
    "df_orig.columns = df_orig.columns.str.lower()\n",
    "\n",
    "# Remove duplicates\n",
    "df_orig = df_orig.drop_duplicates()\n",
    "df_orig.head(5)\n",
    "\n",
    "# Remove missing values\n",
    "df = df_orig.dropna()\n",
    "df.head(5)"
   ]
  },
  {
   "cell_type": "markdown",
   "metadata": {},
   "source": [
    "## Univariate non-graphical exploratory data analysis (EDA)"
   ]
  },
  {
   "cell_type": "markdown",
   "metadata": {},
   "source": [
    "### Quantiles"
   ]
  },
  {
   "cell_type": "code",
   "execution_count": 6,
   "metadata": {},
   "outputs": [],
   "source": [
    "# Calculate Quantiles \n"
   ]
  },
  {
   "cell_type": "markdown",
   "metadata": {},
   "source": [
    "### Shape (number of rows and colums)"
   ]
  },
  {
   "cell_type": "code",
   "execution_count": 7,
   "metadata": {},
   "outputs": [],
   "source": [
    "# Number of rows and columns\n"
   ]
  },
  {
   "cell_type": "markdown",
   "metadata": {},
   "source": [
    "### Data types"
   ]
  },
  {
   "cell_type": "code",
   "execution_count": 8,
   "metadata": {},
   "outputs": [],
   "source": [
    "# Show data types\n"
   ]
  },
  {
   "cell_type": "markdown",
   "metadata": {},
   "source": [
    "### Summary statistics of numeric variables"
   ]
  },
  {
   "cell_type": "code",
   "execution_count": 9,
   "metadata": {},
   "outputs": [],
   "source": [
    "# Show summary statistics of variables\n"
   ]
  },
  {
   "cell_type": "markdown",
   "metadata": {},
   "source": [
    "### Statistical measures (min, max, std, mean, median, count) for selected variables"
   ]
  },
  {
   "cell_type": "code",
   "execution_count": 10,
   "metadata": {},
   "outputs": [],
   "source": [
    "# Price\n",
    "\n",
    "\n",
    "# Area\n"
   ]
  },
  {
   "cell_type": "markdown",
   "metadata": {},
   "source": [
    "### Skewness"
   ]
  },
  {
   "cell_type": "code",
   "execution_count": 11,
   "metadata": {},
   "outputs": [],
   "source": [
    "# Show skewness of selected variables"
   ]
  },
  {
   "cell_type": "markdown",
   "metadata": {},
   "source": [
    "### Kurtosis"
   ]
  },
  {
   "cell_type": "code",
   "execution_count": 12,
   "metadata": {},
   "outputs": [],
   "source": [
    "# Show kurtosis of selected variables"
   ]
  },
  {
   "cell_type": "markdown",
   "metadata": {},
   "source": [
    "### Extreme values"
   ]
  },
  {
   "cell_type": "code",
   "execution_count": 13,
   "metadata": {},
   "outputs": [],
   "source": [
    "# Low costs cars\n"
   ]
  },
  {
   "cell_type": "code",
   "execution_count": 14,
   "metadata": {},
   "outputs": [],
   "source": [
    "# Very expansive cars\n"
   ]
  },
  {
   "cell_type": "markdown",
   "metadata": {},
   "source": [
    "### Get a list of categories of categorical variable"
   ]
  },
  {
   "cell_type": "code",
   "execution_count": 15,
   "metadata": {},
   "outputs": [],
   "source": [
    "# Get a list of categories of the variable fuel_type\n"
   ]
  },
  {
   "cell_type": "markdown",
   "metadata": {},
   "source": [
    "## Multivariate non-graphical exploratory data analysis (EDA)"
   ]
  },
  {
   "cell_type": "markdown",
   "metadata": {},
   "source": [
    "### Cross-tabulation"
   ]
  },
  {
   "cell_type": "code",
   "execution_count": 16,
   "metadata": {},
   "outputs": [],
   "source": [
    "# Create a crosstab of the variables fuel_type and transmission\n"
   ]
  },
  {
   "cell_type": "markdown",
   "metadata": {},
   "source": [
    "### Pivot tables"
   ]
  },
  {
   "cell_type": "code",
   "execution_count": 17,
   "metadata": {},
   "outputs": [],
   "source": [
    "# Using pivot_table with averages of price, mileage and hp of the cars by fuel type\n"
   ]
  },
  {
   "cell_type": "markdown",
   "metadata": {},
   "source": [
    "### Correlation matrix"
   ]
  },
  {
   "cell_type": "code",
   "execution_count": 18,
   "metadata": {},
   "outputs": [],
   "source": [
    "# Calculate correlation matrix of the variables mileage, price and hp\n"
   ]
  },
  {
   "cell_type": "markdown",
   "metadata": {},
   "source": [
    "### Covariance matrix"
   ]
  },
  {
   "cell_type": "code",
   "execution_count": 19,
   "metadata": {},
   "outputs": [],
   "source": [
    "# Calculate covariance matrix of the variables mileage, price and hp\n"
   ]
  },
  {
   "cell_type": "markdown",
   "metadata": {},
   "source": [
    "## Univariate graphical exploratory data analysis (EDA)"
   ]
  },
  {
   "cell_type": "markdown",
   "metadata": {},
   "source": [
    "### Line chart (matplotlib)"
   ]
  },
  {
   "cell_type": "code",
   "execution_count": 21,
   "metadata": {},
   "outputs": [],
   "source": [
    "# Generate time series data for mean car prices over the last 20 years\n",
    "\n",
    "\n",
    "\n",
    "# Start from 25 years ago with an initial price\n",
    "\n",
    "\n",
    "\n",
    "# Create a DataFrame to display the data\n",
    "\n",
    "\n",
    "\n",
    "# Create figure\n",
    "\n",
    "\n",
    "# Show plot"
   ]
  },
  {
   "cell_type": "markdown",
   "metadata": {},
   "source": [
    "### Boxplot (seaborn)"
   ]
  },
  {
   "cell_type": "code",
   "execution_count": null,
   "metadata": {},
   "outputs": [],
   "source": [
    "# Create a boxplot of the variable mileage\n"
   ]
  },
  {
   "cell_type": "markdown",
   "metadata": {},
   "source": [
    "### Histogram  (matplotlib)"
   ]
  },
  {
   "cell_type": "code",
   "execution_count": null,
   "metadata": {},
   "outputs": [],
   "source": [
    "# Plot Histogram of the variable price\n",
    "\n",
    "\n",
    "# Create figure\n",
    "\n",
    "\n",
    "# Set labels\n",
    "\n",
    "\n",
    "# Set fontsize of tick labels\n",
    "\n",
    "\n",
    "# Show plot\n"
   ]
  },
  {
   "cell_type": "markdown",
   "metadata": {},
   "source": [
    "### Density plot  (seaborn)"
   ]
  },
  {
   "cell_type": "code",
   "execution_count": null,
   "metadata": {},
   "outputs": [],
   "source": [
    "# Create a density plot of the variable price\n",
    "\n",
    "\n",
    "# Create figure\n",
    "\n",
    "\n",
    "# Set title and labels\n",
    "\n",
    "\n",
    "# Show plot\n"
   ]
  },
  {
   "cell_type": "markdown",
   "metadata": {},
   "source": [
    "### Quantile-Quantile (QQ-) plot"
   ]
  },
  {
   "cell_type": "code",
   "execution_count": null,
   "metadata": {},
   "outputs": [],
   "source": [
    "# Create qqplot of the variable mileage\n",
    "\n",
    "\n",
    "# Variable (standardized)\n",
    "\n",
    "    \n",
    "# Plot\n"
   ]
  },
  {
   "cell_type": "markdown",
   "metadata": {},
   "source": [
    "### Barchart  (matplotlib)"
   ]
  },
  {
   "cell_type": "code",
   "execution_count": null,
   "metadata": {},
   "outputs": [],
   "source": [
    "# Group data by fuel_type (only the topmost 15 values are shown)\n",
    "\n",
    "\n",
    "# Values for barchart\n",
    "\n",
    "\n",
    "# Figure\n",
    "\n",
    "\n",
    "# Show graph\n"
   ]
  },
  {
   "cell_type": "markdown",
   "metadata": {},
   "source": [
    "### Piechart (matplotlib)"
   ]
  },
  {
   "cell_type": "code",
   "execution_count": null,
   "metadata": {},
   "outputs": [],
   "source": [
    "# Subset of cars with fuel type (only Diesel, Benzin and Elektro)\n",
    "\n",
    "\n",
    "# Group data by  (only the 8 most frequently occurencies)\n",
    "\n",
    "\n",
    "# Simple bar chart\n",
    "\n",
    "\n",
    "# Show plot"
   ]
  },
  {
   "cell_type": "markdown",
   "metadata": {},
   "source": [
    "## Multivariate graphical exploratory data analysis (EDA)"
   ]
  },
  {
   "cell_type": "markdown",
   "metadata": {},
   "source": [
    "### Scatterplot (matplotlib)"
   ]
  },
  {
   "cell_type": "code",
   "execution_count": null,
   "metadata": {},
   "outputs": [],
   "source": [
    "# Create a scatterplot of the variables hp and price\n"
   ]
  },
  {
   "cell_type": "markdown",
   "metadata": {},
   "source": [
    "### Scatterplot (matplotlib) with regression line"
   ]
  },
  {
   "cell_type": "code",
   "execution_count": null,
   "metadata": {},
   "outputs": [],
   "source": [
    "# Create a scatterplot of the variables hp and price\n",
    "\n",
    "\n",
    "# Add a regression line (b = slope, a=intercept) to the plot\n",
    "\n",
    "\n",
    "# Show plot\n"
   ]
  },
  {
   "cell_type": "markdown",
   "metadata": {},
   "source": [
    "### Scatterplot-matrix (seaborn)"
   ]
  },
  {
   "cell_type": "code",
   "execution_count": null,
   "metadata": {},
   "outputs": [],
   "source": [
    "# Create a scatterplot of the variables mileage, price and hp\n",
    "\n",
    "\n",
    "# Show plot\n"
   ]
  },
  {
   "cell_type": "markdown",
   "metadata": {},
   "source": [
    "### Hexagonal binning plot  (matplotlib)"
   ]
  },
  {
   "cell_type": "code",
   "execution_count": null,
   "metadata": {},
   "outputs": [],
   "source": [
    "# Subset of cars with price <= 100000 and hp <= 400\n",
    "\n",
    "\n",
    "# Create a scatterplot of the variables hp and price\n",
    "\n",
    "\n",
    "# Set axes labels\n",
    "\n",
    "\n",
    "# Show plot"
   ]
  },
  {
   "cell_type": "markdown",
   "metadata": {},
   "source": [
    "### Correlation heatmap (seaborn)"
   ]
  },
  {
   "cell_type": "code",
   "execution_count": null,
   "metadata": {},
   "outputs": [],
   "source": [
    "# Create correlation matrix with variable price, mileage and hp\n",
    "\n",
    "\n",
    "# Plot heatmap\n"
   ]
  },
  {
   "cell_type": "markdown",
   "metadata": {},
   "source": [
    "### Bubble plot (seaborn)"
   ]
  },
  {
   "cell_type": "code",
   "execution_count": null,
   "metadata": {},
   "outputs": [],
   "source": [
    "# Create a scatterplot of the variables mileage, price, hp, price_per_hp\n",
    "# price on the y-axis\n",
    "# hp on the x-axis\n",
    "# price_per_hp determines bubble size\n",
    "# mileage determines color\n",
    "\n"
   ]
  },
  {
   "cell_type": "markdown",
   "metadata": {},
   "source": [
    "### Jupyter notebook --footer info-- (please always provide this at the end of each notebook)"
   ]
  },
  {
   "cell_type": "code",
   "execution_count": null,
   "metadata": {},
   "outputs": [],
   "source": [
    "import os\n",
    "import platform\n",
    "import socket\n",
    "from platform import python_version\n",
    "from datetime import datetime\n",
    "\n",
    "print('-----------------------------------')\n",
    "print(os.name.upper())\n",
    "print(platform.system(), '|', platform.release())\n",
    "print('Datetime:', datetime.now().strftime(\"%Y-%m-%d %H:%M:%S\"))\n",
    "print('Python Version:', python_version())\n",
    "print('-----------------------------------')"
   ]
  }
 ],
 "metadata": {
  "gist": {
   "data": {
    "description": "histogram.ipynb",
    "public": false
   },
   "id": ""
  },
  "kernelspec": {
   "display_name": "Python 3",
   "language": "python",
   "name": "python3"
  },
  "language_info": {
   "codemirror_mode": {
    "name": "ipython",
    "version": 3
   },
   "file_extension": ".py",
   "mimetype": "text/x-python",
   "name": "python",
   "nbconvert_exporter": "python",
   "pygments_lexer": "ipython3",
   "version": "3.11.10"
  },
  "toc": {
   "base_numbering": 1,
   "nav_menu": {},
   "number_sections": true,
   "sideBar": true,
   "skip_h1_title": false,
   "title_cell": "Table of Contents",
   "title_sidebar": "Contents",
   "toc_cell": false,
   "toc_position": {
    "height": "calc(100% - 180px)",
    "left": "10px",
    "top": "150px",
    "width": "196.075px"
   },
   "toc_section_display": true,
   "toc_window_display": true
  }
 },
 "nbformat": 4,
 "nbformat_minor": 2
}
